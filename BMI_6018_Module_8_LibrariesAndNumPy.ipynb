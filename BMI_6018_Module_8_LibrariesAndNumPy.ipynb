{
 "cells": [
  {
   "cell_type": "code",
   "execution_count": 3,
   "id": "16d48684",
   "metadata": {},
   "outputs": [
    {
     "name": "stdout",
     "output_type": "stream",
     "text": [
      "1.24.3\n"
     ]
    }
   ],
   "source": [
    "#Carrie Gold\n",
    "#BMI 6018\n",
    "#Module 8: Libraries and NumPy\n",
    "\n",
    "#1. Import numpy as np and print the version number. (5 Points)\n",
    "import numpy as np\n",
    "print(np.__version__)"
   ]
  },
  {
   "cell_type": "code",
   "execution_count": 32,
   "id": "27f4306f",
   "metadata": {},
   "outputs": [
    {
     "name": "stdout",
     "output_type": "stream",
     "text": [
      "[0 1 2 3 4 5 6 7 8 9]\n"
     ]
    }
   ],
   "source": [
    "#2. Create a 1D array of numbers from 0 to 9. Desired output:\n",
    "#> array([0, 1, 2, 3, 4, 5, 6, 7, 8, 9])\n",
    "my_array = np.array([0,1,2,3,4,5,6,7,8,9])\n",
    "print(my_array)"
   ]
  },
  {
   "cell_type": "code",
   "execution_count": 53,
   "id": "c3c525f0",
   "metadata": {},
   "outputs": [],
   "source": [
    "#3. Import a dataset with numbers and texts keeping the text intact in \n",
    "#Python Numpy. Use the iris dataset available from \n",
    "url = 'https://archive.ics.uci.edu/ml/machine-learning-databases/iris/iris.data'\n",
    "dtype = [('sep_len','f4'),('sep_wid','f4'),('pet_len','f4'),('pet_wid','f4'),('class','U15')]\n",
    "iris_data = np.genfromtxt(url,delimiter=',',dtype=dtype)\n",
    "#print(iris_data)"
   ]
  },
  {
   "cell_type": "code",
   "execution_count": 55,
   "id": "7a4cf63f",
   "metadata": {},
   "outputs": [
    {
     "name": "stdout",
     "output_type": "stream",
     "text": [
      "The position of the 1st occurrence of a value greater than 1.0 in petalwidth is 50\n"
     ]
    }
   ],
   "source": [
    "#4. Find the position of the first occurrence of a value greater than 1.0 \n",
    "#in petalwidth 4th column of iris dataset. Use the iris dataset available \n",
    "#from https://archive.ics.uci.edu/ml/machine-learning-databases/iris/iris.data\n",
    "first_occ = np.argmax(iris_data['pet_wid']>1.0)\n",
    "print(\"The position of the 1st occurrence of a value greater than 1.0 in petalwidth is\",first_occ)"
   ]
  },
  {
   "cell_type": "code",
   "execution_count": 62,
   "id": "ebcf298f",
   "metadata": {},
   "outputs": [
    {
     "name": "stdout",
     "output_type": "stream",
     "text": [
      "Original output: [27.62684215 14.64009987 21.80136195 42.39403048  1.23122395  6.95688692\n",
      " 33.86670515 41.466785    7.69862289 29.17957314 44.67477576 11.25090398\n",
      " 10.08108276  6.31046763 11.76517714 48.95256545 40.77247431  9.42510962\n",
      " 40.99501269 14.42961361]\n",
      "Modified output: [27.62684215 14.64009987 21.80136195 30.         10.         10.\n",
      " 30.         30.         10.         29.17957314 30.         11.25090398\n",
      " 10.08108276 10.         11.76517714 30.         30.         10.\n",
      " 30.         14.42961361]\n"
     ]
    }
   ],
   "source": [
    "#5. From the array a, replace all values greater than 30 to 30 and less \n",
    "#than 10 to 10.\n",
    "#Input:\n",
    "np.random.seed(100)\n",
    "a = np.random.uniform(1,50,20)\n",
    "print(\"Original output:\",a)\n",
    "a[a>30]=30\n",
    "a[a<10]=10\n",
    "print(\"Modified output:\",a)"
   ]
  }
 ],
 "metadata": {
  "kernelspec": {
   "display_name": "Python 3 (ipykernel)",
   "language": "python",
   "name": "python3"
  },
  "language_info": {
   "codemirror_mode": {
    "name": "ipython",
    "version": 3
   },
   "file_extension": ".py",
   "mimetype": "text/x-python",
   "name": "python",
   "nbconvert_exporter": "python",
   "pygments_lexer": "ipython3",
   "version": "3.11.4"
  }
 },
 "nbformat": 4,
 "nbformat_minor": 5
}
