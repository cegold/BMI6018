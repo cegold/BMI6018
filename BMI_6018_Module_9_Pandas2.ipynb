{
 "cells": [
  {
   "cell_type": "code",
   "execution_count": null,
   "id": "a5b67f03",
   "metadata": {},
   "outputs": [],
   "source": [
    "#Carrie Gold \n",
    "#BMI 6018\n",
    "#Module 9, Assignment 2: Pandas - 2"
   ]
  },
  {
   "cell_type": "code",
   "execution_count": 2,
   "id": "53f35a5a",
   "metadata": {},
   "outputs": [],
   "source": [
    "import pandas as pd \n",
    "import numpy as np"
   ]
  },
  {
   "cell_type": "code",
   "execution_count": 51,
   "id": "63233df8",
   "metadata": {},
   "outputs": [
    {
     "name": "stdout",
     "output_type": "stream",
     "text": [
      "The Euclidean distance between the points of this data set:\n",
      "18.16590212458495\n"
     ]
    }
   ],
   "source": [
    "#Question 1 (15 Points)\n",
    "#Compute the euclidean distance between series (points) p and q, without \n",
    "#using a packaged formula.\n",
    "#Input\n",
    "p = pd.Series([1, 2, 3, 4, 5, 6, 7, 8, 9, 10])\n",
    "q = pd.Series([10, 9, 8, 7, 6, 5, 4, 3, 2, 1])\n",
    "\n",
    "running_sum = 0\n",
    "n = 0\n",
    "for i in p:\n",
    "    subtract_total = i - q[n]\n",
    "    n = n + 1\n",
    "    square_total = subtract_total * subtract_total\n",
    "    running_sum = running_sum + square_total\n",
    "square_root = running_sum ** 0.5\n",
    "print(\"The Euclidean distance between the points of this data set:\")\n",
    "print(square_root)"
   ]
  },
  {
   "cell_type": "code",
   "execution_count": 29,
   "id": "dcde8ffa",
   "metadata": {},
   "outputs": [
    {
     "data": {
      "text/html": [
       "<div>\n",
       "<style scoped>\n",
       "    .dataframe tbody tr th:only-of-type {\n",
       "        vertical-align: middle;\n",
       "    }\n",
       "\n",
       "    .dataframe tbody tr th {\n",
       "        vertical-align: top;\n",
       "    }\n",
       "\n",
       "    .dataframe thead th {\n",
       "        text-align: right;\n",
       "    }\n",
       "</style>\n",
       "<table border=\"1\" class=\"dataframe\">\n",
       "  <thead>\n",
       "    <tr style=\"text-align: right;\">\n",
       "      <th></th>\n",
       "      <th>c</th>\n",
       "      <th>b</th>\n",
       "      <th>a</th>\n",
       "      <th>d</th>\n",
       "      <th>e</th>\n",
       "    </tr>\n",
       "  </thead>\n",
       "  <tbody>\n",
       "    <tr>\n",
       "      <th>0</th>\n",
       "      <td>2</td>\n",
       "      <td>1</td>\n",
       "      <td>0</td>\n",
       "      <td>3</td>\n",
       "      <td>4</td>\n",
       "    </tr>\n",
       "    <tr>\n",
       "      <th>1</th>\n",
       "      <td>7</td>\n",
       "      <td>6</td>\n",
       "      <td>5</td>\n",
       "      <td>8</td>\n",
       "      <td>9</td>\n",
       "    </tr>\n",
       "    <tr>\n",
       "      <th>2</th>\n",
       "      <td>12</td>\n",
       "      <td>11</td>\n",
       "      <td>10</td>\n",
       "      <td>13</td>\n",
       "      <td>14</td>\n",
       "    </tr>\n",
       "    <tr>\n",
       "      <th>3</th>\n",
       "      <td>17</td>\n",
       "      <td>16</td>\n",
       "      <td>15</td>\n",
       "      <td>18</td>\n",
       "      <td>19</td>\n",
       "    </tr>\n",
       "  </tbody>\n",
       "</table>\n",
       "</div>"
      ],
      "text/plain": [
       "    c   b   a   d   e\n",
       "0   2   1   0   3   4\n",
       "1   7   6   5   8   9\n",
       "2  12  11  10  13  14\n",
       "3  17  16  15  18  19"
      ]
     },
     "execution_count": 29,
     "metadata": {},
     "output_type": "execute_result"
    }
   ],
   "source": [
    "#Question 2 (15 Points)\n",
    "#Change the order of columns of a dataframe. Interchange columns 'a' and 'c'.\n",
    "\n",
    "df = pd.DataFrame(np.arange(20).reshape(-1, 5), columns=list('abcde'))\n",
    "q2 = df[[\"c\",\"b\",\"a\",\"d\",\"e\"]]\n",
    "q2"
   ]
  },
  {
   "cell_type": "code",
   "execution_count": 52,
   "id": "dd256f93",
   "metadata": {},
   "outputs": [
    {
     "data": {
      "text/html": [
       "<div>\n",
       "<style scoped>\n",
       "    .dataframe tbody tr th:only-of-type {\n",
       "        vertical-align: middle;\n",
       "    }\n",
       "\n",
       "    .dataframe tbody tr th {\n",
       "        vertical-align: top;\n",
       "    }\n",
       "\n",
       "    .dataframe thead th {\n",
       "        text-align: right;\n",
       "    }\n",
       "</style>\n",
       "<table border=\"1\" class=\"dataframe\">\n",
       "  <thead>\n",
       "    <tr style=\"text-align: right;\">\n",
       "      <th></th>\n",
       "      <th>a</th>\n",
       "      <th>b</th>\n",
       "      <th>c</th>\n",
       "      <th>d</th>\n",
       "      <th>e</th>\n",
       "    </tr>\n",
       "  </thead>\n",
       "  <tbody>\n",
       "    <tr>\n",
       "      <th>0</th>\n",
       "      <td>3</td>\n",
       "      <td>1</td>\n",
       "      <td>2</td>\n",
       "      <td>0</td>\n",
       "      <td>4</td>\n",
       "    </tr>\n",
       "    <tr>\n",
       "      <th>1</th>\n",
       "      <td>8</td>\n",
       "      <td>6</td>\n",
       "      <td>7</td>\n",
       "      <td>5</td>\n",
       "      <td>9</td>\n",
       "    </tr>\n",
       "    <tr>\n",
       "      <th>2</th>\n",
       "      <td>13</td>\n",
       "      <td>11</td>\n",
       "      <td>12</td>\n",
       "      <td>10</td>\n",
       "      <td>14</td>\n",
       "    </tr>\n",
       "    <tr>\n",
       "      <th>3</th>\n",
       "      <td>18</td>\n",
       "      <td>16</td>\n",
       "      <td>17</td>\n",
       "      <td>15</td>\n",
       "      <td>19</td>\n",
       "    </tr>\n",
       "  </tbody>\n",
       "</table>\n",
       "</div>"
      ],
      "text/plain": [
       "    a   b   c   d   e\n",
       "0   3   1   2   0   4\n",
       "1   8   6   7   5   9\n",
       "2  13  11  12  10  14\n",
       "3  18  16  17  15  19"
      ]
     },
     "execution_count": 52,
     "metadata": {},
     "output_type": "execute_result"
    }
   ],
   "source": [
    "#Question 3 (15 Points)\n",
    "#Change the order of columns of a dataframe.  Create a generic function \n",
    "#to interchange two columns, without hardcoding column names.\n",
    "\n",
    "df_3 = pd.DataFrame(np.arange(20).reshape(-1, 5), columns=list('abcde'))\n",
    "\n",
    "df_3\n",
    "\n",
    "def df_reorder(original_df, col_1, col_2):\n",
    "    df_copy = original_df.copy()\n",
    "    temp_col = df_copy[col_1].copy()\n",
    "    df_copy[col_1] = df_copy[col_2]\n",
    "    df_copy[col_2] = temp_col\n",
    "    return df_copy\n",
    "    \n",
    "df_reorder(df_3, \"a\", \"d\")  \n",
    "#The datapoints of the columns have switched, though the column labels have not."
   ]
  },
  {
   "cell_type": "code",
   "execution_count": 62,
   "id": "1a3b8ea0",
   "metadata": {},
   "outputs": [
    {
     "data": {
      "text/html": [
       "<div>\n",
       "<style scoped>\n",
       "    .dataframe tbody tr th:only-of-type {\n",
       "        vertical-align: middle;\n",
       "    }\n",
       "\n",
       "    .dataframe tbody tr th {\n",
       "        vertical-align: top;\n",
       "    }\n",
       "\n",
       "    .dataframe thead th {\n",
       "        text-align: right;\n",
       "    }\n",
       "</style>\n",
       "<table border=\"1\" class=\"dataframe\">\n",
       "  <thead>\n",
       "    <tr style=\"text-align: right;\">\n",
       "      <th></th>\n",
       "      <th>random</th>\n",
       "    </tr>\n",
       "  </thead>\n",
       "  <tbody>\n",
       "    <tr>\n",
       "      <th>0</th>\n",
       "      <td>0.0079</td>\n",
       "    </tr>\n",
       "    <tr>\n",
       "      <th>1</th>\n",
       "      <td>0.0000</td>\n",
       "    </tr>\n",
       "    <tr>\n",
       "      <th>2</th>\n",
       "      <td>0.1358</td>\n",
       "    </tr>\n",
       "    <tr>\n",
       "      <th>3</th>\n",
       "      <td>0.0000</td>\n",
       "    </tr>\n",
       "  </tbody>\n",
       "</table>\n",
       "</div>"
      ],
      "text/plain": [
       "   random\n",
       "0  0.0079\n",
       "1  0.0000\n",
       "2  0.1358\n",
       "3  0.0000"
      ]
     },
     "execution_count": 62,
     "metadata": {},
     "output_type": "execute_result"
    }
   ],
   "source": [
    "#Question 4 (15 Points)\n",
    "#Format or suppress scientific notations in a pandas dataframe. Suppress \n",
    "#scientific notations like ‘e-03’ in df and print upto 4 numbers after decimal.\n",
    "\n",
    "df = pd.DataFrame(np.random.random(4)**10, columns=['random'])\n",
    "pd.options.display.float_format = '{:.4f}'.format\n",
    "df    "
   ]
  },
  {
   "cell_type": "code",
   "execution_count": 53,
   "id": "a27d580a",
   "metadata": {},
   "outputs": [
    {
     "name": "stdout",
     "output_type": "stream",
     "text": [
      "    p   q   r   s nearest_row       dist\n",
      "a  75  49  79  19           i  34.899857\n",
      "b  92  29  35  35           c  22.068076\n",
      "c  91  40  16  37           b  22.068076\n",
      "d  37  22   1  71           g  26.343880\n",
      "e  18  47  73  82           j  33.496268\n",
      "f  67  27  38  46           b  27.549955\n",
      "g  52  23  13  53           d  26.343880\n",
      "h  66  95  53  16           a  53.684262\n",
      "i  42  41  83  12           a  34.899857\n",
      "j   9  72  77  62           e  33.496268\n"
     ]
    }
   ],
   "source": [
    "#Question 5 (15 Points)\n",
    "#Create a new column that contains the row number of nearest column by \n",
    "#euclidean distance. Create a new column such that, each row contains the \n",
    "#row number of nearest row-record by euclidean distance.\n",
    "\n",
    "#DataFrame\n",
    "df_5 = pd.DataFrame(np.random.randint(1,100, 40).reshape(10, -1), \n",
    "columns=list('pqrs'), index=list('abcdefghij'))\n",
    "df_5\n",
    "\n",
    "#Calculating Euclidean distance\n",
    "def eu_distance(row_a, row_b):\n",
    "    running_sum = 0\n",
    "    for i in range(len(row_a)):\n",
    "        subtract_total = row_a[i] - row_b[i]\n",
    "        square_total = subtract_total * subtract_total\n",
    "        running_sum = running_sum + square_total\n",
    "    return running_sum ** 0.5\n",
    "\n",
    "#Iterating over the DataFrame and adding two columns to show the results: \"nearest_row\" and \"dist\"\n",
    "nearest_rows = []\n",
    "dist = []\n",
    "for index, row in df_5.iterrows():\n",
    "    min_distance = np.inf\n",
    "    nearest_row = None\n",
    "    for other_index, other_row in df_5.iterrows():\n",
    "        if index != other_index:\n",
    "            distance = eu_distance(row, other_row)\n",
    "            if distance < min_distance:\n",
    "                min_distance = distance\n",
    "                nearest_row = other_index\n",
    "    dist.append(min_distance)\n",
    "    nearest_rows.append(nearest_row)\n",
    "\n",
    "df_5[\"nearest_row\"] = nearest_rows\n",
    "df_5[\"dist\"] = dist\n",
    "\n",
    "print(df_5)"
   ]
  },
  {
   "cell_type": "code",
   "execution_count": 52,
   "id": "a8217b9c",
   "metadata": {},
   "outputs": [
    {
     "name": "stdout",
     "output_type": "stream",
     "text": [
      "The correlation matrix:\n",
      "          A         B         C         D         E\n",
      "A  1.000000  0.756038  0.624390  0.493811  0.928600\n",
      "B  0.756038  1.000000  0.966733  0.363559  0.649558\n",
      "C  0.624390  0.966733  1.000000  0.218860  0.528068\n",
      "D  0.493811  0.363559  0.218860  1.000000  0.720177\n",
      "E  0.928600  0.649558  0.528068  0.720177  1.000000\n"
     ]
    }
   ],
   "source": [
    "#Question 6 (15 Points)\n",
    "#Correlation is a statistical technique that shows how two variables are related. \n",
    "#Pandas dataframe.corr() method is used for creating the correlation matrix. It is \n",
    "#used to find the pairwise correlation of all columns in the dataframe. Any na \n",
    "#values are automatically excluded. For any non-numeric data type columns in the \n",
    "#dataframe it is ignored.\n",
    "\n",
    "input_data = {'A': [45, 37, 0, 42, 50],\n",
    "        'B': [38, 31, 1, 26, 90],\n",
    "        'C': [10, 15, -10, 17, 100],\n",
    "        'D': [60, 99, 15, 23, 56],\n",
    "        'E': [76, 98, -0.03, 78, 90]\n",
    "        }\n",
    "\n",
    "df_in_data = pd.DataFrame(input_data)\n",
    "\n",
    "corr_matrix = df_in_data.corr()\n",
    "print(\"The correlation matrix:\")\n",
    "print(corr_matrix)"
   ]
  },
  {
   "cell_type": "code",
   "execution_count": null,
   "id": "8af7bc28",
   "metadata": {},
   "outputs": [],
   "source": []
  }
 ],
 "metadata": {
  "kernelspec": {
   "display_name": "Python 3 (ipykernel)",
   "language": "python",
   "name": "python3"
  },
  "language_info": {
   "codemirror_mode": {
    "name": "ipython",
    "version": 3
   },
   "file_extension": ".py",
   "mimetype": "text/x-python",
   "name": "python",
   "nbconvert_exporter": "python",
   "pygments_lexer": "ipython3",
   "version": "3.11.4"
  }
 },
 "nbformat": 4,
 "nbformat_minor": 5
}
